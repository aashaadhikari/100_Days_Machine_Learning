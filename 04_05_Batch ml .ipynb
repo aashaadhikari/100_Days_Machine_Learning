{
 "cells": [
  {
   "cell_type": "markdown",
   "id": "7b538e49-d89d-4641-b07c-3240ed6ac5a8",
   "metadata": {},
   "source": [
    "# Batch learning\n",
    "Batch learning, also known as offline learning, is a machine learning paradigm where the model is trained on the entire dataset at once, rather than incrementally updating with new data over time. This is in contrast to online learning, where the model continuously updates as new data arrives.\n",
    "\n",
    "## Key Features of Batch Learning\n",
    "* Trained on a Fixed Dataset: The model is trained using a fixed dataset and does not change until it is retrained with new data.\n",
    "\n",
    "* Computationally Intensive: Since the entire dataset is used for training, it requires significant computational resources.\n",
    "\n",
    "* Not Adaptable to Real-Time Changes: The model does not learn from new data unless explicitly retrained.\n",
    "\n",
    "* Suitable for Large Datasets: Best for scenarios where data does not change frequently or real-time learning is not required."
   ]
  },
  {
   "cell_type": "markdown",
   "id": "193229e4-1789-4e37-98d7-8486dd54ec3c",
   "metadata": {},
   "source": [
    "## Examples of Batch Learning\n",
    "* Training deep learning models on image datasets like ImageNet.\n",
    "* Predictive analytics in finance using historical stock data.\n",
    "* Healthcare diagnostics where models are trained on large medical datasets."
   ]
  },
  {
   "cell_type": "markdown",
   "id": "af988212-ac64-45bb-a0a6-15dae51b5573",
   "metadata": {},
   "source": [
    "# Online Learning (Incremental Learning)\n",
    "Online learning is a machine learning paradigm where the model learns continuously from streaming or new incoming data. Unlike batch learning, which trains on a fixed dataset, online learning updates the model iteratively as new data arrives.\n",
    "\n",
    "## Examples of Online Learning\n",
    "*  Recommendation Systems – Netflix, YouTube, and Spotify update recommendations based on recent user activity.\n",
    "*  Fraud Detection – Banks continuously update fraud detection models based on new transaction data.\n",
    "*  Autonomous Vehicles – Self-driving cars update their decision models in real-time using sensor data.\n",
    "*   Stock Market Prediction – Models adjust predictions based on live financial data streams."
   ]
  },
  {
   "cell_type": "code",
   "execution_count": null,
   "id": "d0ebcf24-7c26-4846-89e0-f9ca87fa2fb7",
   "metadata": {},
   "outputs": [],
   "source": []
  }
 ],
 "metadata": {
  "kernelspec": {
   "display_name": "Python 3 (ipykernel)",
   "language": "python",
   "name": "python3"
  },
  "language_info": {
   "codemirror_mode": {
    "name": "ipython",
    "version": 3
   },
   "file_extension": ".py",
   "mimetype": "text/x-python",
   "name": "python",
   "nbconvert_exporter": "python",
   "pygments_lexer": "ipython3",
   "version": "3.12.7"
  }
 },
 "nbformat": 4,
 "nbformat_minor": 5
}
