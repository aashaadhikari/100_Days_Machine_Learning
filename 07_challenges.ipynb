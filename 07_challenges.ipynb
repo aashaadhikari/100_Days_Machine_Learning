{
 "cells": [
  {
   "cell_type": "markdown",
   "id": "09b427cc-2ec6-4ffa-8645-45baeaefacc4",
   "metadata": {},
   "source": [
    "Machine Learning (ML) offers incredible potential, but it comes with several challenges that can make development and deployment tricky. Here are some key challenges:\n",
    "\n",
    "# Data Quality and Quantity\n",
    "* <b>Insufficient Data:</b> ML models require a lot of high-quality data to learn effectively.\n",
    "\n",
    "* <b>Noisy or Incomplete Data:</b> Missing values, inconsistencies, and errors reduce model performance.\n",
    "\n",
    "* <b>Imbalanced Data:</b> In classification tasks, if one class dominates, the model may become biased."
   ]
  },
  {
   "cell_type": "markdown",
   "id": "903a29c9-052e-4db5-a902-286ea2bca1c9",
   "metadata": {},
   "source": [
    "# Overfitting and Underfitting\n",
    "* <b>Overfitting:</b> The model memorizes the training data but fails to generalize to new data\n",
    "* <b>Underfitting:</b> The model is too simple to capture the underlying patterns in the data.\n"
   ]
  },
  {
   "cell_type": "markdown",
   "id": "96ad482c-32ef-4a44-a1e0-a92341b2f34d",
   "metadata": {},
   "source": [
    "# Feature Engineering\n",
    "* Selecting the right features and transforming data correctly requires domain knowledge and experimentation."
   ]
  },
  {
   "cell_type": "markdown",
   "id": "1de9ba1e-6257-4f74-9434-eb17db6b09d2",
   "metadata": {},
   "source": [
    "#  Model Interpretability\n",
    "* Complex models like deep neural networks often act like “black boxes,” making it hard to understand their decisions, especially in critical areas like healthcare or finance."
   ]
  },
  {
   "cell_type": "markdown",
   "id": "0369e5b5-654e-46cb-b1fa-1b241ab4e69c",
   "metadata": {},
   "source": [
    "# Security and Privacy\n",
    "* Using personal data can lead to privacy concerns.\n",
    "\n",
    "* ML systems can be vulnerable to adversarial attacks or data poisoning."
   ]
  },
  {
   "cell_type": "markdown",
   "id": "b35b3e05-1b65-4547-88fb-19c7c5535ab6",
   "metadata": {},
   "source": [
    "# Computational Resources\n",
    "* Training large models requires significant computational power and memory, which can be expensive.\n",
    "\n"
   ]
  },
  {
   "cell_type": "markdown",
   "id": "0aed2546-35ac-4e35-b1b1-b9dc4f99c0f7",
   "metadata": {},
   "source": [
    "# Model Deployment and Maintenance\n",
    "* Models may perform well in a lab setting but behave differently in the real world.\n",
    "* Continuous monitoring and updating are needed to ensure accuracy over time (concept drift)."
   ]
  },
  {
   "cell_type": "markdown",
   "id": "e9212ffa-eeec-405b-98e1-04010df27149",
   "metadata": {},
   "source": [
    "# Ethical and Social Implications\n",
    "* Bias in training data can lead to unfair or discriminatory outcomes.\n",
    "* There's a need for transparency, accountability, and ethical guidelines."
   ]
  },
  {
   "cell_type": "markdown",
   "id": "7bf93c9a-397f-470f-a7bc-3c68958d0bde",
   "metadata": {},
   "source": [
    "# Evaluation Metrics\n",
    "* Choosing the right metric (accuracy, precision, recall, F1 score, etc.) is crucial for measuring model performance appropriately."
   ]
  },
  {
   "cell_type": "markdown",
   "id": "7ebe6386-d195-4f66-96e1-336be4af6241",
   "metadata": {},
   "source": [
    "# Scalability\n",
    "* Scaling models to handle large amounts of data or many users in production environments can be difficult."
   ]
  },
  {
   "cell_type": "code",
   "execution_count": null,
   "id": "8a8067da-18f4-44df-b748-39f3dc1380c7",
   "metadata": {},
   "outputs": [],
   "source": []
  }
 ],
 "metadata": {
  "kernelspec": {
   "display_name": "Python 3 (ipykernel)",
   "language": "python",
   "name": "python3"
  },
  "language_info": {
   "codemirror_mode": {
    "name": "ipython",
    "version": 3
   },
   "file_extension": ".py",
   "mimetype": "text/x-python",
   "name": "python",
   "nbconvert_exporter": "python",
   "pygments_lexer": "ipython3",
   "version": "3.12.7"
  }
 },
 "nbformat": 4,
 "nbformat_minor": 5
}
