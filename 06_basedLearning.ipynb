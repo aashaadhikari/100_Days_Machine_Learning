{
 "cells": [
  {
   "cell_type": "markdown",
   "id": "29e9487f-748c-49d8-8053-b7fc96463a41",
   "metadata": {},
   "source": [
    "# Instance-Based VS Model-Based Learning"
   ]
  },
  {
   "cell_type": "markdown",
   "id": "797919f8-1848-4bda-a2e3-0dd31526d299",
   "metadata": {},
   "source": [
    "# Instance-Based Learning (Memory-Based Learning)\n",
    "Instance-based learning algorithms memorize the training data and make predictions based on similarity with new data points. They do not create an explicit model but instead rely on distance metrics or similarity functions.\n",
    "\n",
    "## Key Feateres\n",
    "* Stores training data and compares new inputs with stored examples.\n",
    "* Uses distance-based metrics like Euclidean distance, cosine similarity, etc.\n",
    "* Quick to adapt to new data but slow during prediction.\n",
    "* Requires more memory since all data is stored.\n",
    "  \n",
    "###  Examples of Instance-Based Algorithms\n",
    "*  k-Nearest Neighbors (k-NN) – Finds the \"k\" closest training points to predict a new instance.\n",
    "*  Support Vector Machines (SVM) – Uses support vectors (specific instances) to define decision boundaries.\n",
    "* Fits a model locally around each test point. "
   ]
  },
  {
   "cell_type": "markdown",
   "id": "62072c99-1452-4c0d-b2ba-62334deb12e4",
   "metadata": {},
   "source": [
    "# Model-Based Learning\n",
    "Model-based learning involves building a mathematical model from training data. The model captures patterns and generalizes them to make predictions on unseen data.\n",
    "## key Features \n",
    "* Extracts patterns and relationships from data instead of memorizing.\n",
    "* Uses statistical techniques, probability distributions, or deep learning models.\n",
    "* Fast during prediction but may require extensive training.\n",
    "* More memory-efficient compared to instance-based learning.\n",
    "\n",
    "### Examples of Model-Based Algorithms\n",
    "* Linear Regression – Fits a straight-line model for regression tasks.\n",
    "* Logistic Regression – Used for binary classification problems.\n",
    "* Decision Trees & Random Forests – Build models by learning decision rules.\n",
    "* Neural Networks & Deep Learning – Complex models that learn patterns through layers of neurons."
   ]
  }
 ],
 "metadata": {
  "kernelspec": {
   "display_name": "Python 3 (ipykernel)",
   "language": "python",
   "name": "python3"
  },
  "language_info": {
   "codemirror_mode": {
    "name": "ipython",
    "version": 3
   },
   "file_extension": ".py",
   "mimetype": "text/x-python",
   "name": "python",
   "nbconvert_exporter": "python",
   "pygments_lexer": "ipython3",
   "version": "3.12.7"
  }
 },
 "nbformat": 4,
 "nbformat_minor": 5
}
