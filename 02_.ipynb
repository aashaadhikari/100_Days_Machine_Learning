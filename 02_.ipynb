{
 "cells": [
  {
   "cell_type": "markdown",
   "id": "3c914110-8bcf-4271-b339-6795aaf1e21c",
   "metadata": {},
   "source": [
    "# AI\n",
    "## Artificial Intelligence:\n",
    "* The broadest concept that refers to machines simulating human intelligence.\n",
    "\n",
    "* AI includes rule-based systems, expert systems, and learning-based methods like ML and DL.\n",
    "\n",
    "* Examples: Chatbots, self-driving cars, and recommendation systems."
   ]
  },
  {
   "cell_type": "markdown",
   "id": "ec646f06-47e3-4f90-880b-6a8e4416e7f5",
   "metadata": {},
   "source": [
    " # Deep Learning (DL)\n",
    "* A subset of ML that uses neural networks with multiple layers (hence \"deep\").\n",
    "\n",
    "* DL requires a large amount of data and computational power.\n",
    "\n",
    "* Popular architectures: CNNs (for images), RNNs (for sequences), Transformers (for NLP).\n",
    "\n",
    "* Examples: Face recognition, speech-to-text, autonomous vehicles."
   ]
  },
  {
   "cell_type": "markdown",
   "id": "75e001ee-cb74-41be-9b85-a38fbd6d6690",
   "metadata": {},
   "source": [
    "# ML\n",
    "## Machine Learning \n",
    "* A subset of AI where algorithms learn from data and improve over time without being explicitly programmed.\n",
    "\n",
    "* ML is mainly categorized into:\n",
    "\n",
    "    * Supervised Learning (e.g., regression, classification)\n",
    "\n",
    "    * Unsupervised Learning (e.g., clustering, anomaly detection)\n",
    "\n",
    "    * Reinforcement Learning (e.g., game-playing AI)\n",
    "\n",
    "* Examples: Spam detection, fraud detection, predictive analytics."
   ]
  },
  {
   "cell_type": "code",
   "execution_count": null,
   "id": "9c8149e8-14c7-427f-ae30-ef3ee3ae6350",
   "metadata": {},
   "outputs": [],
   "source": []
  }
 ],
 "metadata": {
  "kernelspec": {
   "display_name": "Python 3 (ipykernel)",
   "language": "python",
   "name": "python3"
  },
  "language_info": {
   "codemirror_mode": {
    "name": "ipython",
    "version": 3
   },
   "file_extension": ".py",
   "mimetype": "text/x-python",
   "name": "python",
   "nbconvert_exporter": "python",
   "pygments_lexer": "ipython3",
   "version": "3.12.7"
  }
 },
 "nbformat": 4,
 "nbformat_minor": 5
}
