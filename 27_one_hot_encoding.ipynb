{
 "cells": [
  {
   "cell_type": "markdown",
   "id": "7d91bc7f-07fa-4d5c-bee2-6e8dd1581a72",
   "metadata": {},
   "source": [
    "# One Hot Encoding (done for nominal data)\n",
    "One Hot Encoding is a method for converting categorical variables into a binary format. It creates new columns for each category where 1 means the category is present and 0 means it is not."
   ]
  },
  {
   "cell_type": "code",
   "execution_count": null,
   "id": "9a05a177-f6de-462b-8472-ec44d9b3924e",
   "metadata": {},
   "outputs": [],
   "source": []
  }
 ],
 "metadata": {
  "kernelspec": {
   "display_name": "Python 3 (ipykernel)",
   "language": "python",
   "name": "python3"
  },
  "language_info": {
   "codemirror_mode": {
    "name": "ipython",
    "version": 3
   },
   "file_extension": ".py",
   "mimetype": "text/x-python",
   "name": "python",
   "nbconvert_exporter": "python",
   "pygments_lexer": "ipython3",
   "version": "3.12.7"
  }
 },
 "nbformat": 4,
 "nbformat_minor": 5
}
